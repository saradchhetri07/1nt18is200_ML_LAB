{
 "cells": [
  {
   "cell_type": "code",
   "execution_count": 1,
   "id": "bb62463f",
   "metadata": {},
   "outputs": [],
   "source": [
    "import pandas as pd\n",
    "import numpy as np\n",
    "from sklearn.model_selection import train_test_split"
   ]
  },
  {
   "cell_type": "code",
   "execution_count": 17,
   "id": "83f5421d",
   "metadata": {},
   "outputs": [],
   "source": [
    "dataset = pd.read_csv(\"/Users/saradchhetri/Desktop/Student-University.csv\")"
   ]
  },
  {
   "cell_type": "code",
   "execution_count": 18,
   "id": "5526e4f0",
   "metadata": {},
   "outputs": [
    {
     "name": "stdout",
     "output_type": "stream",
     "text": [
      "    34.62365962  78.02469282  0\n",
      "0     30.286711    43.894998  0\n",
      "1     35.847409    72.902198  0\n",
      "2     60.182599    86.308552  1\n",
      "3     79.032736    75.344376  1\n",
      "4     45.083277    56.316372  0\n",
      "..          ...          ... ..\n",
      "94    83.489163    48.380286  1\n",
      "95    42.261701    87.103851  1\n",
      "96    99.315009    68.775409  1\n",
      "97    55.340018    64.931938  1\n",
      "98    74.775893    89.529813  1\n",
      "\n",
      "[99 rows x 3 columns]\n"
     ]
    }
   ],
   "source": [
    "print(dataset)"
   ]
  },
  {
   "cell_type": "code",
   "execution_count": 19,
   "id": "0ee575c6",
   "metadata": {},
   "outputs": [],
   "source": [
    "X= dataset.values[:,0:2]\n",
    "Y = dataset.values[:,2]"
   ]
  },
  {
   "cell_type": "code",
   "execution_count": 20,
   "id": "01ff4f5f",
   "metadata": {},
   "outputs": [],
   "source": [
    "x_train,x_test,y_train,y_test = train_test_split(X,Y,test_size=0.2,random_state=100)"
   ]
  },
  {
   "cell_type": "code",
   "execution_count": 21,
   "id": "cede3612",
   "metadata": {},
   "outputs": [],
   "source": [
    "x1 = x_train[:,0]\n",
    "x2 = x_train[:,1]"
   ]
  },
  {
   "cell_type": "code",
   "execution_count": 24,
   "id": "47174e9e",
   "metadata": {},
   "outputs": [
    {
     "name": "stdout",
     "output_type": "stream",
     "text": [
      "b0 0.0020232618383548193\n",
      "b1 0.19930526719739688\n",
      "b2 0.12305182228352946\n",
      "[1.0, 1.0, 1.0, 1.0, 1.0, 1.0, 1.0, 1.0, 1.0, 1.0, 1.0, 1.0, 1.0, 1.0, 1.0, 1.0, 1.0, 1.0, 1.0, 1.0]\n"
     ]
    }
   ],
   "source": [
    "\n",
    "i= 0;\n",
    "alpha = 0.001\n",
    "b0=0.0\n",
    "b1=0.0\n",
    "b2=0.0\n",
    "while(i<1000):\n",
    "    for j in range(len(x1)):\n",
    "        p = 1/1+np.exp(-(b0+b1*x1[j]+b2*x2[j]))\n",
    "        #b0 = b0 + alpha * (y_train[j]-p)*p *(1-p)*1.0\n",
    "        b0=b0 + alpha * (y_train[j] - p) * p* (1 - p) * 1.0\n",
    "        b1 = b1 + alpha * (y_train[j] - p)* p *(1-p) * x1[j]\n",
    "        b2 = b2 + alpha * (y_train[j] - p) * p*(1-p) * x2[j]\n",
    "    i+=1\n",
    "print(\"b0\",b0)\n",
    "print(\"b1\",b1)\n",
    "print(\"b2\",b2)\n",
    "\n",
    "xtest1 = x_test[:,0]\n",
    "xtest2 = x_test[:,1]\n",
    "y_pred = []\n",
    "for k in range(len(xtest1)):\n",
    "    y_pred.append(np.round(1/1+np.exp(-(b0+b1*xtest1[k]*b2*xtest2[k]))))\n",
    "print(y_pred)"
   ]
  },
  {
   "cell_type": "code",
   "execution_count": null,
   "id": "4b06fe73",
   "metadata": {},
   "outputs": [],
   "source": []
  }
 ],
 "metadata": {
  "kernelspec": {
   "display_name": "Python 3 (ipykernel)",
   "language": "python",
   "name": "python3"
  },
  "language_info": {
   "codemirror_mode": {
    "name": "ipython",
    "version": 3
   },
   "file_extension": ".py",
   "mimetype": "text/x-python",
   "name": "python",
   "nbconvert_exporter": "python",
   "pygments_lexer": "ipython3",
   "version": "3.9.10"
  }
 },
 "nbformat": 4,
 "nbformat_minor": 5
}
