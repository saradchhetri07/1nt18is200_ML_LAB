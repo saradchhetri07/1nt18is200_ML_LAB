{
 "cells": [
  {
   "cell_type": "code",
   "execution_count": 1,
   "id": "57fb06d8",
   "metadata": {},
   "outputs": [
    {
     "name": "stdout",
     "output_type": "stream",
     "text": [
      "[1, 'a', 3.5, 'apple', 500]\n",
      "[1, 2, 3, 4, 5]\n"
     ]
    }
   ],
   "source": [
    "list_1 = [1,'a',3.5,'apple',500]\n",
    "print(list_1)\n",
    "list_2 = [1,2,3,4,5]\n",
    "print(list_2)"
   ]
  },
  {
   "cell_type": "code",
   "execution_count": 2,
   "id": "706f95f7",
   "metadata": {},
   "outputs": [
    {
     "name": "stdout",
     "output_type": "stream",
     "text": [
      "3\n",
      "5\n"
     ]
    }
   ],
   "source": [
    "#3rd element\n",
    "print(list_2[2])\n",
    "#5th element\n",
    "print(list_2[4])"
   ]
  },
  {
   "cell_type": "code",
   "execution_count": 3,
   "id": "8daec532",
   "metadata": {},
   "outputs": [
    {
     "name": "stdout",
     "output_type": "stream",
     "text": [
      "Integer value : 12 , Floating value:23.56 , String value:Hello \n"
     ]
    }
   ],
   "source": [
    "int_num = 12\n",
    "float_num = 23.56\n",
    "string_val = \"Hello\"\n",
    "print(\"Integer value : {} , Floating value:{} , String value:{} \".format(int_num,float_num,string_val))"
   ]
  },
  {
   "cell_type": "code",
   "execution_count": 4,
   "id": "2fa09c2a",
   "metadata": {},
   "outputs": [
    {
     "name": "stdout",
     "output_type": "stream",
     "text": [
      "[1, 2, 3, 4, 5, '6th_element']\n"
     ]
    }
   ],
   "source": [
    "#insert 6th element as string\n",
    "list_2.append(\"6th_element\")\n",
    "print(list_2)"
   ]
  },
  {
   "cell_type": "code",
   "execution_count": 5,
   "id": "e8f8ed17",
   "metadata": {},
   "outputs": [
    {
     "name": "stdout",
     "output_type": "stream",
     "text": [
      "[1, 2, 3, 4, 5, '6th_element', 10, 20, 30, 40, 50, 60]\n"
     ]
    }
   ],
   "source": [
    "list_3 = [10,20,30,40,50,60]\n",
    "#Add 2 lists\n",
    "res_list = list_2 + list_3\n",
    "print(res_list)"
   ]
  },
  {
   "cell_type": "code",
   "execution_count": 6,
   "id": "24b5deb9",
   "metadata": {},
   "outputs": [
    {
     "name": "stdout",
     "output_type": "stream",
     "text": [
      "1\n",
      "2\n",
      "3\n",
      "4\n",
      "5\n",
      "6th_element\n",
      "10\n",
      "20\n",
      "30\n",
      "40\n",
      "50\n",
      "60\n"
     ]
    }
   ],
   "source": [
    "for i in range(len(res_list)):\n",
    "    print(res_list[i])"
   ]
  },
  {
   "cell_type": "code",
   "execution_count": 7,
   "id": "5869bdf0",
   "metadata": {},
   "outputs": [
    {
     "name": "stdout",
     "output_type": "stream",
     "text": [
      "10\n",
      "60\n"
     ]
    }
   ],
   "source": [
    "#min amd max\n",
    "print(min(list_3))\n",
    "print(max(list_3))"
   ]
  },
  {
   "cell_type": "code",
   "execution_count": 8,
   "id": "e4c3e586",
   "metadata": {},
   "outputs": [
    {
     "name": "stdout",
     "output_type": "stream",
     "text": [
      "Before swapping : a:10 , b:20 \n",
      "After swapping : a:20 , b:10 \n"
     ]
    }
   ],
   "source": [
    "#swap elements\n",
    "a = 10\n",
    "b = 20\n",
    "print(\"Before swapping : a:{} , b:{} \".format(a,b))\n",
    "a,b = b,a\n",
    "print(\"After swapping : a:{} , b:{} \".format(a,b))"
   ]
  },
  {
   "cell_type": "code",
   "execution_count": 9,
   "id": "a0f4505e",
   "metadata": {},
   "outputs": [
    {
     "name": "stdout",
     "output_type": "stream",
     "text": [
      "[5, 7, 9, 7, 8]\n"
     ]
    }
   ],
   "source": [
    "#add list elements\n",
    "l2 = [1,2,3]\n",
    "l1 = [4,5,6,7,8]\n",
    "res = []\n",
    "if(len(l1) < len(l2)):\n",
    "    k = len(l1)\n",
    "    r = l2\n",
    "else:\n",
    "    k = len(l2)\n",
    "    r = l1\n",
    "for i in range(k) :\n",
    "    res.append(l1[i] + l2[i])\n",
    "start_pos = k\n",
    "for j in range(start_pos,len(r)):\n",
    "       res.append(r[j])\n",
    "\n",
    "print(res)"
   ]
  },
  {
   "cell_type": "code",
   "execution_count": 10,
   "id": "1b87606c",
   "metadata": {},
   "outputs": [
    {
     "name": "stdout",
     "output_type": "stream",
     "text": [
      "False\n"
     ]
    }
   ],
   "source": [
    "str1 = \"apple\"\n",
    "str2 = \"apole\"\n",
    "if(len(str1) != len(str2)) :\n",
    "    flag = 0\n",
    "else:\n",
    "    for i in range(len(str1)) :\n",
    "        if(str1[i] == str2[i]) :\n",
    "            flag = 1\n",
    "            \n",
    "        else:\n",
    "            flag = 0\n",
    "            break\n",
    "if(flag == 0):\n",
    "    print(\"False\")\n",
    "else:\n",
    "    print(\"True\")"
   ]
  },
  {
   "cell_type": "code",
   "execution_count": 11,
   "id": "8a9a1862",
   "metadata": {},
   "outputs": [
    {
     "name": "stdout",
     "output_type": "stream",
     "text": [
      "1.+ 2.- 3.* 4./\n",
      "Enter choice number\n",
      "2\n",
      "Enter 1st number\n",
      "12\n",
      "Enter 2nd number\n",
      "30\n",
      "Difference is -18\n"
     ]
    }
   ],
   "source": [
    "#simple calculator\n",
    "print(\"1.+ 2.- 3.* 4./\")\n",
    "print(\"Enter choice number\")\n",
    "ch = int(input())\n",
    "print(\"Enter 1st number\")\n",
    "a = int(input())\n",
    "print(\"Enter 2nd number\")\n",
    "b = int(input())\n",
    "if(ch == 1) :\n",
    "    print(\"Sum is {}\".format(a+b))\n",
    "elif(ch==2):\n",
    "    print(\"Difference is {}\".format(a-b))\n",
    "elif(ch==3):\n",
    "    print(\"Product is {}\".format(a*b))\n",
    "else:\n",
    "    print(\"Quotient is {}\".format(a / b))"
   ]
  },
  {
   "cell_type": "code",
   "execution_count": 13,
   "id": "30824fb4",
   "metadata": {},
   "outputs": [
    {
     "name": "stdout",
     "output_type": "stream",
     "text": [
      "Enter anything12\n",
      "<class 'float'>\n"
     ]
    }
   ],
   "source": [
    "a = float(input(\"Enter anything\"))\n",
    "print(type(a))\n"
   ]
  },
  {
   "cell_type": "code",
   "execution_count": 14,
   "id": "37f98909",
   "metadata": {},
   "outputs": [
    {
     "name": "stdout",
     "output_type": "stream",
     "text": [
      "510\n",
      "15.0\n"
     ]
    }
   ],
   "source": [
    "a = '5'\n",
    "b ='10'\n",
    "print(a+b)\n",
    "a = float(a)\n",
    "b = int(b)\n",
    "print(a+b)"
   ]
  },
  {
   "cell_type": "code",
   "execution_count": 15,
   "id": "378d3521",
   "metadata": {},
   "outputs": [
    {
     "name": "stdout",
     "output_type": "stream",
     "text": [
      "Mean is 3.5\n"
     ]
    }
   ],
   "source": [
    "l = [1,2,3,4,5,6]\n",
    "lsum = 0\n",
    "for i in l:\n",
    "    lsum= lsum + i\n",
    "print(\"Mean is {}\".format(lsum / len(l)))"
   ]
  },
  {
   "cell_type": "code",
   "execution_count": 16,
   "id": "31a19b0d",
   "metadata": {},
   "outputs": [
    {
     "name": "stdout",
     "output_type": "stream",
     "text": [
      "Median is 3.5\n"
     ]
    }
   ],
   "source": [
    "if(len(l) % 2 != 0 ):\n",
    "    ele = len(l) // 2\n",
    "    print(\"Median is {}\".format(l[ele]) )\n",
    "else:\n",
    "    ele = len(l) // 2\n",
    "    lsum = l[ele] + l[ele-1]\n",
    "    ans = lsum / 2\n",
    "    print(\"Median is {}\".format(ans) )"
   ]
  },
  {
   "cell_type": "code",
   "execution_count": 17,
   "id": "4a365c3b",
   "metadata": {},
   "outputs": [
    {
     "ename": "ModuleNotFoundError",
     "evalue": "No module named 'numpy'",
     "output_type": "error",
     "traceback": [
      "\u001b[0;31m---------------------------------------------------------------------------\u001b[0m",
      "\u001b[0;31mModuleNotFoundError\u001b[0m                       Traceback (most recent call last)",
      "\u001b[0;32m/var/folders/hr/zry3bzrx6rsgf6b67t6r1p7h0000gn/T/ipykernel_992/3186013247.py\u001b[0m in \u001b[0;36m<module>\u001b[0;34m\u001b[0m\n\u001b[0;32m----> 1\u001b[0;31m \u001b[0;32mimport\u001b[0m \u001b[0mnumpy\u001b[0m \u001b[0;32mas\u001b[0m \u001b[0mnp\u001b[0m\u001b[0;34m\u001b[0m\u001b[0;34m\u001b[0m\u001b[0m\n\u001b[0m\u001b[1;32m      2\u001b[0m \u001b[0mprint\u001b[0m\u001b[0;34m(\u001b[0m\u001b[0mnp\u001b[0m\u001b[0;34m.\u001b[0m\u001b[0mmedian\u001b[0m\u001b[0;34m(\u001b[0m\u001b[0ml\u001b[0m\u001b[0;34m)\u001b[0m\u001b[0;34m)\u001b[0m\u001b[0;34m\u001b[0m\u001b[0;34m\u001b[0m\u001b[0m\n",
      "\u001b[0;31mModuleNotFoundError\u001b[0m: No module named 'numpy'"
     ]
    }
   ],
   "source": [
    "import numpy as np\n",
    "print(np.median(l))"
   ]
  },
  {
   "cell_type": "code",
   "execution_count": null,
   "id": "f38da657",
   "metadata": {},
   "outputs": [],
   "source": []
  }
 ],
 "metadata": {
  "kernelspec": {
   "display_name": "Python 3 (ipykernel)",
   "language": "python",
   "name": "python3"
  },
  "language_info": {
   "codemirror_mode": {
    "name": "ipython",
    "version": 3
   },
   "file_extension": ".py",
   "mimetype": "text/x-python",
   "name": "python",
   "nbconvert_exporter": "python",
   "pygments_lexer": "ipython3",
   "version": "3.9.10"
  }
 },
 "nbformat": 4,
 "nbformat_minor": 5
}
