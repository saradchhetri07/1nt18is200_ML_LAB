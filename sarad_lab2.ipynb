{
 "cells": [
  {
   "cell_type": "code",
   "execution_count": 1,
   "id": "4c349019",
   "metadata": {},
   "outputs": [
    {
     "name": "stdout",
     "output_type": "stream",
     "text": [
      "Sorted elements [1, 2, 3, 4, 5]\n"
     ]
    }
   ],
   "source": [
    "#Bubble sort without user input\n",
    "l = [3,2,1,4,5]\n",
    "#Traverse the list\n",
    "for i in range(len(l)):\n",
    "    for j in range(i+1,len(l)):\n",
    "        #check if the first num. is greater than the next num. if so swap\n",
    "        if(l[i] > l[j]):\n",
    "            temp = l[i]\n",
    "            l[i] = l[j]\n",
    "            l[j] = temp\n",
    "#print sorted elements\n",
    "print(\"Sorted elements\",end = \" \")\n",
    "print(l)"
   ]
  },
  {
   "cell_type": "markdown",
   "id": "64f5e215",
   "metadata": {},
   "source": [
    "# Bubble sort with user input\n",
    "n = int(input(\"Enter the number of elements\"))\n",
    "print(\"Enter the elements\")\n",
    "l = list(map(int,input().split()))\n",
    "for i in range(len(l)):\n",
    "    for j in range(i+1,len(l)):\n",
    "        if(l[i] > l[j]):\n",
    "            temp = l[i]\n",
    "            l[i] = l[j]\n",
    "            l[j] = temp\n",
    "print(\"Sorted elements\",end = \" \")\n",
    "print(l)"
   ]
  },
  {
   "cell_type": "code",
   "execution_count": null,
   "id": "665b157f",
   "metadata": {},
   "outputs": [],
   "source": []
  }
 ],
 "metadata": {
  "kernelspec": {
   "display_name": "Python 3 (ipykernel)",
   "language": "python",
   "name": "python3"
  },
  "language_info": {
   "codemirror_mode": {
    "name": "ipython",
    "version": 3
   },
   "file_extension": ".py",
   "mimetype": "text/x-python",
   "name": "python",
   "nbconvert_exporter": "python",
   "pygments_lexer": "ipython3",
   "version": "3.9.10"
  }
 },
 "nbformat": 4,
 "nbformat_minor": 5
}
